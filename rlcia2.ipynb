{
  "nbformat": 4,
  "nbformat_minor": 0,
  "metadata": {
    "colab": {
      "provenance": []
    },
    "kernelspec": {
      "name": "python3",
      "display_name": "Python 3"
    },
    "language_info": {
      "name": "python"
    }
  },
  "cells": [
    {
      "cell_type": "code",
      "execution_count": 1,
      "metadata": {
        "id": "VaBTFrK3f2MD"
      },
      "outputs": [],
      "source": [
        "import numpy as np\n",
        "import matplotlib.pyplot as plt\n",
        "from collections import defaultdict\n",
        "import random\n",
        "import time\n",
        "import seaborn as sns"
      ]
    },
    {
      "cell_type": "code",
      "source": [
        "class GridWorld:\n",
        "    def __init__(self, size=100, obstacle_density=0.3):\n",
        "        self.size = size\n",
        "        self.grid = np.zeros((size, size))\n",
        "        self.actions = [(0, 1), (1, 0), (0, -1), (-1, 0)]  # right, down, left, up\n",
        "        self.generate_environment(obstacle_density)\n",
        "\n",
        "    def generate_environment(self, obstacle_density):\n",
        "        # Generate random obstacles\n",
        "        self.grid = np.random.choice([0, 1], size=(self.size, self.size),\n",
        "                                   p=[1-obstacle_density, obstacle_density])\n",
        "\n",
        "        # Generate start and goal states\n",
        "        while True:\n",
        "            self.start = (random.randint(0, self.size-1), random.randint(0, self.size-1))\n",
        "            self.goal = (random.randint(0, self.size-1), random.randint(0, self.size-1))\n",
        "\n",
        "            if (self.grid[self.start] == 0 and self.grid[self.goal] == 0 and\n",
        "                self.start != self.goal):\n",
        "                break\n",
        "\n",
        "        self.grid[self.start] = 2  # Start state\n",
        "        self.grid[self.goal] = 3   # Goal state\n",
        "\n",
        "    def is_valid_state(self, state):\n",
        "        x, y = state\n",
        "        return (0 <= x < self.size and 0 <= y < self.size and\n",
        "                self.grid[x, y] != 1)\n",
        "\n",
        "    def get_next_state(self, state, action):\n",
        "        next_state = (state[0] + action[0], state[1] + action[1])\n",
        "        if not self.is_valid_state(next_state):\n",
        "            return state\n",
        "        return next_state\n",
        "\n",
        "    def get_reward(self, state):\n",
        "        if state == self.goal:\n",
        "            return 100\n",
        "        elif not self.is_valid_state(state):\n",
        "            return -100\n",
        "        return -1"
      ],
      "metadata": {
        "id": "0ln6ygyvf6--"
      },
      "execution_count": 3,
      "outputs": []
    },
    {
      "cell_type": "code",
      "source": [
        "class ValueIteration:\n",
        "    def __init__(self, env, gamma=0.99, theta=1e-6):\n",
        "        self.env = env\n",
        "        self.gamma = gamma\n",
        "        self.theta = theta\n",
        "        self.V = defaultdict(float)\n",
        "        self.policy = {}\n",
        "\n",
        "    def solve(self, max_iterations=1000):\n",
        "        iteration = 0\n",
        "        while iteration < max_iterations:\n",
        "            delta = 0\n",
        "            for i in range(self.env.size):\n",
        "                for j in range(self.env.size):\n",
        "                    if self.env.grid[i, j] == 1:  # Skip obstacles\n",
        "                        continue\n",
        "\n",
        "                    state = (i, j)\n",
        "                    if state == self.env.goal:\n",
        "                        continue\n",
        "\n",
        "                    v = self.V[state]\n",
        "                    max_v = float('-inf')\n",
        "                    best_action = None\n",
        "\n",
        "                    for action in self.env.actions:\n",
        "                        next_state = self.env.get_next_state(state, action)\n",
        "                        reward = self.env.get_reward(next_state)\n",
        "                        v_next = reward + self.gamma * self.V[next_state]\n",
        "\n",
        "                        if v_next > max_v:\n",
        "                            max_v = v_next\n",
        "                            best_action = action\n",
        "\n",
        "                    self.V[state] = max_v\n",
        "                    self.policy[state] = best_action\n",
        "                    delta = max(delta, abs(v - self.V[state]))\n",
        "\n",
        "            if delta < self.theta:\n",
        "                break\n",
        "            iteration += 1\n",
        "\n",
        "        return self.V, self.policy, iteration\n"
      ],
      "metadata": {
        "id": "ayamlWo3f-Lq"
      },
      "execution_count": 4,
      "outputs": []
    },
    {
      "cell_type": "code",
      "source": [
        "class QLearning:\n",
        "    def __init__(self, env, alpha=0.1, gamma=0.99, epsilon=0.1):\n",
        "        self.env = env\n",
        "        self.alpha = alpha\n",
        "        self.gamma = gamma\n",
        "        self.epsilon = epsilon\n",
        "        self.Q = defaultdict(lambda: defaultdict(float))\n",
        "\n",
        "    def get_action(self, state):\n",
        "        if random.random() < self.epsilon:\n",
        "            return random.choice(self.env.actions)\n",
        "        return max(self.env.actions, key=lambda a: self.Q[state][a])\n",
        "\n",
        "    def solve(self, episodes=1000):\n",
        "        total_rewards = []\n",
        "\n",
        "        for episode in range(episodes):\n",
        "            state = self.env.start\n",
        "            total_reward = 0\n",
        "\n",
        "            while state != self.env.goal:\n",
        "                action = self.get_action(state)\n",
        "                next_state = self.env.get_next_state(state, action)\n",
        "                reward = self.env.get_reward(next_state)\n",
        "\n",
        "                # Q-learning update\n",
        "                best_next_value = max(self.Q[next_state].values()) if self.Q[next_state] else 0\n",
        "                self.Q[state][action] += self.alpha * (reward + self.gamma * best_next_value -\n",
        "                                                     self.Q[state][action])\n",
        "\n",
        "                state = next_state\n",
        "                total_reward += reward\n",
        "\n",
        "                if not self.env.is_valid_state(state):\n",
        "                    break\n",
        "\n",
        "            total_rewards.append(total_reward)\n",
        "\n",
        "        return self.Q, total_rewards"
      ],
      "metadata": {
        "id": "LrevcvXKf-O2"
      },
      "execution_count": 5,
      "outputs": []
    },
    {
      "cell_type": "code",
      "source": [
        "def benchmark_algorithms(grid_size=100, num_runs=5):\n",
        "    results = {\n",
        "        'Value Iteration': {'time': [], 'iterations': []},\n",
        "        'Q-Learning': {'time': [], 'rewards': []}\n",
        "    }\n",
        "\n",
        "    for _ in range(num_runs):\n",
        "        env = GridWorld(size=grid_size)\n",
        "\n",
        "        # Value Iteration\n",
        "        start_time = time.time()\n",
        "        vi = ValueIteration(env)\n",
        "        _, _, iterations = vi.solve()\n",
        "        vi_time = time.time() - start_time\n",
        "        results['Value Iteration']['time'].append(vi_time)\n",
        "        results['Value Iteration']['iterations'].append(iterations)\n",
        "\n",
        "        # Q-Learning\n",
        "        start_time = time.time()\n",
        "        ql = QLearning(env)\n",
        "        _, rewards = ql.solve()\n",
        "        ql_time = time.time() - start_time\n",
        "        results['Q-Learning']['time'].append(ql_time)\n",
        "        results['Q-Learning']['rewards'].append(np.mean(rewards))\n",
        "\n",
        "    return results\n"
      ],
      "metadata": {
        "id": "3zb8aiOCf-Rs"
      },
      "execution_count": 6,
      "outputs": []
    },
    {
      "cell_type": "code",
      "source": [
        "def visualize_results(results):\n",
        "    plt.figure(figsize=(12, 5))\n",
        "\n",
        "    # Execution Time Comparison\n",
        "    plt.subplot(121)\n",
        "    algorithms = list(results.keys())\n",
        "    times = [np.mean(results[alg]['time']) for alg in algorithms]\n",
        "    plt.bar(algorithms, times)\n",
        "    plt.title('Average Execution Time')\n",
        "    plt.ylabel('Time (seconds)')\n",
        "\n",
        "    # Q-Learning Rewards\n",
        "    plt.subplot(122)\n",
        "    rewards = np.mean(results['Q-Learning']['rewards'])\n",
        "    iterations = np.mean(results['Value Iteration']['iterations'])\n",
        "    plt.bar(['Q-Learning Rewards', 'VI Iterations'], [rewards, iterations])\n",
        "    plt.title('Performance Metrics')\n",
        "\n",
        "    plt.tight_layout()\n",
        "    return plt\n"
      ],
      "metadata": {
        "id": "AP5Meo1If-Uy"
      },
      "execution_count": 7,
      "outputs": []
    },
    {
      "cell_type": "code",
      "source": [
        "env = GridWorld(size=100)\n",
        "results = benchmark_algorithms()\n",
        "plt = visualize_results(results)\n",
        "plt.show()"
      ],
      "metadata": {
        "colab": {
          "base_uri": "https://localhost:8080/",
          "height": 279
        },
        "id": "zfVGed7YgYfM",
        "outputId": "de98d3d9-d126-4f9f-eb66-4cc2f48997b3"
      },
      "execution_count": 8,
      "outputs": [
        {
          "output_type": "display_data",
          "data": {
            "text/plain": [
              "<Figure size 1200x500 with 2 Axes>"
            ],
            "image/png": "[encoded data removed]"
          },
          "metadata": {}
        }
      ]
    },
    {
      "cell_type": "code",
      "source": [
        "print(results)"
      ],
      "metadata": {
        "colab": {
          "base_uri": "https://localhost:8080/"
        },
        "id": "V-kVPpi7gjYt",
        "outputId": "eff34c1d-0efc-413c-bbc3-e0d03020835b"
      },
      "execution_count": 9,
      "outputs": [
        {
          "output_type": "stream",
          "name": "stdout",
          "text": [
            "{'Value Iteration': {'time': [67.19325947761536, 66.15342783927917, 66.98392939567566, 69.19077682495117, 65.9799575805664], 'iterations': [1000, 1000, 1000, 1000, 1000]}, 'Q-Learning': {'time': [12.061792373657227, 13.096393346786499, 36.33236479759216, 35.56331753730774, 21.341145992279053], 'rewards': [-2122.301, -2323.412, -6277.846, -6326.759, -3729.488]}}\n"
          ]
        }
      ]
    },
    {
      "cell_type": "code",
      "source": [],
      "metadata": {
        "id": "9BlWZmT5pIoT"
      },
      "execution_count": null,
      "outputs": []
    }
  ]
}